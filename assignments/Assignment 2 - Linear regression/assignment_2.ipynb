{
 "cells": [
  {
   "cell_type": "markdown",
   "metadata": {},
   "source": [
    "# Assignment 2 - Linear regression"
   ]
  },
  {
   "cell_type": "markdown",
   "metadata": {},
   "source": [
    "In this assignment we will work with sklearn to compute linear regression models."
   ]
  },
  {
   "cell_type": "markdown",
   "metadata": {},
   "source": [
    "**1. Create a synthetic dataset of pairs $(x_i, y_i), x_i, y_i\\in\\mathbb{R}, i=1,\\ldots,20$ such that the $x_i$ are evenly spaced in the interval $[-2,2]$ and the $y_i$ are generated according to the following:<br>\n",
    "$$Y = \\frac{2X}{3} + 1 + \\epsilon$$<br>\n",
    "where $\\epsilon\\sim N(0,\\sigma^2)$, where $\\sigma=1$.**"
   ]
  },
  {
   "cell_type": "code",
   "execution_count": null,
   "metadata": {},
   "outputs": [],
   "source": []
  },
  {
   "cell_type": "markdown",
   "metadata": {},
   "source": [
    "**2. Make a plot of the data.**"
   ]
  },
  {
   "cell_type": "code",
   "execution_count": null,
   "metadata": {},
   "outputs": [],
   "source": []
  },
  {
   "cell_type": "markdown",
   "metadata": {},
   "source": [
    "**3. Build a linear regression model with sklearn to fit a straight line to the data. Plot the line of best fit with the data. Print the model's line gradient and y-intercept.**"
   ]
  },
  {
   "cell_type": "code",
   "execution_count": null,
   "metadata": {},
   "outputs": [],
   "source": []
  },
  {
   "cell_type": "markdown",
   "metadata": {},
   "source": [
    "**4. Check the gradient and y-intercept by explicitly computing the linear regression model parameters using the formula\n",
    "$$\\mathbf{\\theta} = (\\mathbf{\\Phi_x}^T\\mathbf{\\Phi_x})^{-1}\\mathbf{\\Phi_x}^Ty$$\n",
    "where $\\mathbf{\\Phi_x}$ is the data matrix.**"
   ]
  },
  {
   "cell_type": "code",
   "execution_count": null,
   "metadata": {},
   "outputs": [],
   "source": []
  },
  {
   "cell_type": "markdown",
   "metadata": {},
   "source": [
    "**5. Now consider a fully Bayesian treatment of the linear regression model. We first define the prior distribution over the model parameters $\\mathbf{\\theta}$\n",
    "$$\\mathbf{\\theta}\\sim N(\\mathbf{0}, \\alpha^2\\mathbf{I}),\\qquad \\alpha=0.5$$\n",
    "Sample 10 values from the prior and plot the samples in $\\mathbf{\\theta}$ space, as well as the corresponding linear regression models for the input data points in the interval $[-2, 2]$.**"
   ]
  },
  {
   "cell_type": "code",
   "execution_count": null,
   "metadata": {},
   "outputs": [],
   "source": []
  },
  {
   "cell_type": "markdown",
   "metadata": {},
   "source": [
    "**6. Using the formula for the posterior\n",
    "$$p(\\theta | \\mathbf{x}, \\mathbf{y}) \\sim N(\\theta | (\\mathbf{\\Phi_x}^T\\mathbf{\\Phi_x} + \\lambda\\mathbf{I})^{-1}\\mathbf{\\Phi_x}^Ty, \\sigma^2(\\mathbf{\\Phi_x}^T\\mathbf{\\Phi_x} + \\lambda\\mathbf{I})^{-1}),\\qquad \\lambda=\\sigma^2/\\alpha^2$$\n",
    "sample 10 values from the posterior and plot the samples in $\\theta$ space, as well as the corresponding linear regression models for the input data points in the interval $[-2, 2]$. Include the data samples in the second plot.**"
   ]
  },
  {
   "cell_type": "code",
   "execution_count": null,
   "metadata": {},
   "outputs": [],
   "source": []
  },
  {
   "cell_type": "markdown",
   "metadata": {},
   "source": [
    "**7. Make a plot to show the mean of the Bayesian linear regression model and one standard deviation of the predictive distribution, together with the data points.**"
   ]
  },
  {
   "cell_type": "code",
   "execution_count": null,
   "metadata": {},
   "outputs": [],
   "source": []
  },
  {
   "cell_type": "markdown",
   "metadata": {},
   "source": [
    "**8. We will build a linear regression model for the Airfoil Self-Noise dataset from the UCI machine learning repository. The dataset is available here: http://archive.ics.uci.edu/ml/datasets/Airfoil+Self-Noise. Download the dataset, and load it into a pandas Dataframe, complete with appropriate headers. Compute summary statistics for the dataset using the Dataframe `.describe()` method.**"
   ]
  },
  {
   "cell_type": "code",
   "execution_count": null,
   "metadata": {},
   "outputs": [],
   "source": []
  },
  {
   "cell_type": "markdown",
   "metadata": {},
   "source": [
    "**9. We will predict the scaled sound pressure level from the other 5 feature variables in the dataset. Create a train/test split with the proportion 80/20. Train a linear regression model on the training set and calculate the root mean squared error (RMSE) on the training and test sets.**"
   ]
  },
  {
   "cell_type": "code",
   "execution_count": null,
   "metadata": {},
   "outputs": [],
   "source": []
  },
  {
   "cell_type": "markdown",
   "metadata": {},
   "source": [
    "**10. Try to improve the performance of your model by adding quadratic basis functions. Evaluate the RMSE performance on the training and test sets.**"
   ]
  },
  {
   "cell_type": "code",
   "execution_count": null,
   "metadata": {},
   "outputs": [],
   "source": []
  }
 ],
 "metadata": {
  "kernelspec": {
   "display_name": "Python 3",
   "language": "python",
   "name": "python3"
  },
  "language_info": {
   "codemirror_mode": {
    "name": "ipython",
    "version": 3
   },
   "file_extension": ".py",
   "mimetype": "text/x-python",
   "name": "python",
   "nbconvert_exporter": "python",
   "pygments_lexer": "ipython3",
   "version": "3.7.0"
  }
 },
 "nbformat": 4,
 "nbformat_minor": 2
}
